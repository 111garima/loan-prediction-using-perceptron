{
 "cells": [
  {
   "cell_type": "code",
   "execution_count": 4,
   "id": "04750359-1cc2-4479-96f9-a5a9780e7051",
   "metadata": {},
   "outputs": [
    {
     "name": "stdout",
     "output_type": "stream",
     "text": [
      "Deny loan\n"
     ]
    }
   ],
   "source": [
    "import numpy as np\n",
    "\n",
    "def perceptron(X, y, learning_rate=0.1):\n",
    "   \n",
    "    num_samples, num_features = X.shape\n",
    "    weights = np.random.rand(num_features)\n",
    "    bias = np.random.rand()\n",
    "\n",
    "    for j in range(100):\n",
    "        for i in range(num_samples):\n",
    "            prediction = np.dot(X[i], weights) + bias\n",
    "            #print(prediction)\n",
    "            if np.sign(prediction) != y[i]:\n",
    "                weights += learning_rate * y[i] * X[i]\n",
    "                bias += learning_rate * y[i]\n",
    "\n",
    "    \n",
    "    return weights, bias\n",
    "\n",
    "# Sample data\n",
    "data = np.array([[50000, 750],\n",
    "                 [60000, 800],\n",
    "                 [40000, 600],\n",
    "                 [30000, 500],\n",
    "                 [70000, 900],\n",
    "                 [35000, 550],\n",
    "                 [49000, 599],\n",
    "                 [51000, 601]])\n",
    "labels = np.array([1, 1, -1, -1, 1, -1, -1, 1])  # 1 for grant, -1 for deny\n",
    "\n",
    "# Train the perceptron\n",
    "weights, bias = perceptron(data, labels)\n",
    "\n",
    "# Make a prediction for a new customer\n",
    "new_customer = np.array([1800, 370])\n",
    "prediction = np.dot(new_customer, weights) + bias\n",
    "\n",
    "if prediction >=1:\n",
    "    print(\"Grant loan\")\n",
    "else:\n",
    "    print(\"Deny loan\")"
   ]
  },
  {
   "cell_type": "code",
   "execution_count": 6,
   "id": "453d93af-7ccd-4dd3-b6b8-70adde1b4b51",
   "metadata": {},
   "outputs": [
    {
     "name": "stdout",
     "output_type": "stream",
     "text": [
      "Grant loan\n"
     ]
    }
   ],
   "source": [
    "import numpy as np\n",
    "\n",
    "def perceptron(X, y, learning_rate=0.1):\n",
    "   \n",
    "    num_samples, num_features = X.shape\n",
    "    weights = np.random.rand(num_features)\n",
    "    bias = np.random.rand()\n",
    "\n",
    "    for j in range(100):\n",
    "        for i in range(num_samples):\n",
    "            prediction = np.dot(X[i], weights) + bias\n",
    "            #print(prediction)\n",
    "            if np.sign(prediction) != y[i]:\n",
    "                weights += learning_rate * y[i] * X[i]\n",
    "                bias += learning_rate * y[i]\n",
    "\n",
    "    \n",
    "    return weights, bias\n",
    "\n",
    "# Sample data\n",
    "data = np.array([[50000, 750],\n",
    "                 [60000, 800],\n",
    "                 [40000, 600],\n",
    "                 [30000, 500],\n",
    "                 [70000, 900],\n",
    "                 [35000, 550],\n",
    "                 [49000, 599],\n",
    "                 [51000, 601]])\n",
    "labels = np.array([1, 1, -1, -1, 1, -1, -1, 1])  # 1 for grant, -1 for deny\n",
    "\n",
    "# Train the perceptron\n",
    "weights, bias = perceptron(data, labels)\n",
    "\n",
    "# Make a prediction for a new customer\n",
    "new_customer = np.array([55000, 600])\n",
    "prediction = np.dot(new_customer, weights) + bias\n",
    "\n",
    "if prediction >=1:\n",
    "    print(\"Grant loan\")\n",
    "else:\n",
    "    print(\"Deny loan\")"
   ]
  },
  {
   "cell_type": "code",
   "execution_count": null,
   "id": "bc23cdbf-d9a4-40c2-83cb-235854c58402",
   "metadata": {},
   "outputs": [],
   "source": []
  }
 ],
 "metadata": {
  "kernelspec": {
   "display_name": "Python 3 (ipykernel)",
   "language": "python",
   "name": "python3"
  },
  "language_info": {
   "codemirror_mode": {
    "name": "ipython",
    "version": 3
   },
   "file_extension": ".py",
   "mimetype": "text/x-python",
   "name": "python",
   "nbconvert_exporter": "python",
   "pygments_lexer": "ipython3",
   "version": "3.12.4"
  }
 },
 "nbformat": 4,
 "nbformat_minor": 5
}
